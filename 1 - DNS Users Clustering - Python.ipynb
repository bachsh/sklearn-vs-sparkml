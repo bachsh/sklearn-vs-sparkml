{
 "cells": [
  {
   "cell_type": "markdown",
   "metadata": {},
   "source": [
    "# Introduction"
   ]
  },
  {
   "cell_type": "markdown",
   "metadata": {},
   "source": [
    "We are presented with a dataset containing aggregated data of DNS activity from different IPs connected to a leading ISP. In this dataset there are IPs that belong to home networks and offices/organizations. The task is to try and differentiate between the two.\n",
    "The dataset contains a list of IPs (they are scrambled for anonymity) along with general counts of their activity volumes throughout a single weekday. The day is split into 6 time windows, 4 hours each, and we have the number of DNS queries made by the IP (user). The first time window (index 0) starts at 6AM GMT.\n",
    "We have the following fields in the dataset:\n",
    "* user_ip - the IP of the user (anonymized).\n",
    "* count_hour[0-5] - DNS query count in each of the 6 time windows.\n",
    "* domain_count - Total distinct domains queried in a single day.\n",
    "* nxdomain_count - Total number of DNS requests answered with NXDOMAIN (DNS equivalent of 404)."
   ]
  },
  {
   "cell_type": "markdown",
   "metadata": {},
   "source": [
    "# Initial Imports and Data Input"
   ]
  },
  {
   "cell_type": "code",
   "execution_count": 1,
   "metadata": {
    "collapsed": true
   },
   "outputs": [],
   "source": [
    "import pandas as pd\n",
    "import numpy as np\n",
    "from matplotlib import pyplot as plt\n",
    "%matplotlib inline"
   ]
  },
  {
   "cell_type": "code",
   "execution_count": 2,
   "metadata": {
    "collapsed": false
   },
   "outputs": [
    {
     "name": "stdout",
     "output_type": "stream",
     "text": [
      "200000\n",
      "Index([u'user_ip', u'count_hour0', u'count_hour1', u'count_hour2',\n",
      "       u'count_hour3', u'count_hour4', u'count_hour5', u'domain_count',\n",
      "       u'nxdomain_count'],\n",
      "      dtype='object')\n"
     ]
    }
   ],
   "source": [
    "dataset = pd.read_csv(\"user_dataset_sample.tsv\", sep=\"\\t\")\n",
    "print(len(dataset))\n",
    "print(dataset.columns)"
   ]
  },
  {
   "cell_type": "code",
   "execution_count": 3,
   "metadata": {
    "collapsed": false
   },
   "outputs": [
    {
     "data": {
      "text/html": [
       "<div>\n",
       "<table border=\"1\" class=\"dataframe\">\n",
       "  <thead>\n",
       "    <tr style=\"text-align: right;\">\n",
       "      <th></th>\n",
       "      <th>user_ip</th>\n",
       "      <th>count_hour0</th>\n",
       "      <th>count_hour1</th>\n",
       "      <th>count_hour2</th>\n",
       "      <th>count_hour3</th>\n",
       "      <th>count_hour4</th>\n",
       "      <th>count_hour5</th>\n",
       "      <th>domain_count</th>\n",
       "      <th>nxdomain_count</th>\n",
       "    </tr>\n",
       "  </thead>\n",
       "  <tbody>\n",
       "    <tr>\n",
       "      <th>0</th>\n",
       "      <td>0.0.102.79</td>\n",
       "      <td>101.0</td>\n",
       "      <td>843.0</td>\n",
       "      <td>1788.0</td>\n",
       "      <td>1833.0</td>\n",
       "      <td>2526.0</td>\n",
       "      <td>2212.0</td>\n",
       "      <td>2456</td>\n",
       "      <td>82</td>\n",
       "    </tr>\n",
       "    <tr>\n",
       "      <th>1</th>\n",
       "      <td>0.0.129.25</td>\n",
       "      <td>220.0</td>\n",
       "      <td>866.0</td>\n",
       "      <td>262.0</td>\n",
       "      <td>355.0</td>\n",
       "      <td>488.0</td>\n",
       "      <td>739.0</td>\n",
       "      <td>1188</td>\n",
       "      <td>3</td>\n",
       "    </tr>\n",
       "    <tr>\n",
       "      <th>2</th>\n",
       "      <td>0.0.144.177</td>\n",
       "      <td>73.0</td>\n",
       "      <td>145.0</td>\n",
       "      <td>139.0</td>\n",
       "      <td>108.0</td>\n",
       "      <td>76.0</td>\n",
       "      <td>121.0</td>\n",
       "      <td>36</td>\n",
       "      <td>1</td>\n",
       "    </tr>\n",
       "    <tr>\n",
       "      <th>3</th>\n",
       "      <td>0.0.167.184</td>\n",
       "      <td>10.0</td>\n",
       "      <td>15.0</td>\n",
       "      <td>114.0</td>\n",
       "      <td>30.0</td>\n",
       "      <td>156.0</td>\n",
       "      <td>229.0</td>\n",
       "      <td>85</td>\n",
       "      <td>5</td>\n",
       "    </tr>\n",
       "    <tr>\n",
       "      <th>4</th>\n",
       "      <td>0.0.177.228</td>\n",
       "      <td>508.0</td>\n",
       "      <td>1230.0</td>\n",
       "      <td>798.0</td>\n",
       "      <td>837.0</td>\n",
       "      <td>762.0</td>\n",
       "      <td>602.0</td>\n",
       "      <td>661</td>\n",
       "      <td>2</td>\n",
       "    </tr>\n",
       "  </tbody>\n",
       "</table>\n",
       "</div>"
      ],
      "text/plain": [
       "       user_ip  count_hour0  count_hour1  count_hour2  count_hour3  \\\n",
       "0   0.0.102.79        101.0        843.0       1788.0       1833.0   \n",
       "1   0.0.129.25        220.0        866.0        262.0        355.0   \n",
       "2  0.0.144.177         73.0        145.0        139.0        108.0   \n",
       "3  0.0.167.184         10.0         15.0        114.0         30.0   \n",
       "4  0.0.177.228        508.0       1230.0        798.0        837.0   \n",
       "\n",
       "   count_hour4  count_hour5  domain_count  nxdomain_count  \n",
       "0       2526.0       2212.0          2456              82  \n",
       "1        488.0        739.0          1188               3  \n",
       "2         76.0        121.0            36               1  \n",
       "3        156.0        229.0            85               5  \n",
       "4        762.0        602.0           661               2  "
      ]
     },
     "execution_count": 3,
     "metadata": {},
     "output_type": "execute_result"
    }
   ],
   "source": [
    "dataset.head()"
   ]
  },
  {
   "cell_type": "code",
   "execution_count": 4,
   "metadata": {
    "collapsed": false
   },
   "outputs": [],
   "source": [
    "dataset.fillna(0, inplace=True) # NULLs are actually 0\n",
    "dataset[\"query_count\"] = sum([dataset[\"count_hour{}\".format(window)] for window in xrange(6)])\n",
    "for window in xrange(6):\n",
    "    dataset[\"count_hour{}_norm\".format(window)] = dataset[\"count_hour{}\".format(window)]/dataset.query_count\n"
   ]
  },
  {
   "cell_type": "code",
   "execution_count": 5,
   "metadata": {
    "collapsed": false
   },
   "outputs": [
    {
     "name": "stdout",
     "output_type": "stream",
     "text": [
      "172369\n"
     ]
    }
   ],
   "source": [
    "# Cleanup, remove outliers and IPs with too little requests\n",
    "dataset = dataset[(dataset.query_count >= 20) & (dataset.query_count <= 1e6)]\n",
    "print len(dataset)"
   ]
  },
  {
   "cell_type": "markdown",
   "metadata": {},
   "source": [
    "# General Data Exploration"
   ]
  },
  {
   "cell_type": "code",
   "execution_count": 6,
   "metadata": {
    "collapsed": false
   },
   "outputs": [
    {
     "data": {
      "image/png": "[encoded data removed]",
      "text/plain": [
       "<matplotlib.figure.Figure at 0x1131e7250>"
      ]
     },
     "metadata": {},
     "output_type": "display_data"
    }
   ],
   "source": [
    "plt.figure()\n",
    "feat1, feat2 = [\"query_count\", \"domain_count\"]\n",
    "plt.scatter(dataset[feat1], dataset[feat2])\n",
    "plt.xlabel(feat1); plt.ylabel(feat2)\n",
    "plt.show()"
   ]
  },
  {
   "cell_type": "code",
   "execution_count": 7,
   "metadata": {
    "collapsed": false
   },
   "outputs": [
    {
     "data": {
      "image/png": "[encoded data removed]",
      "text/plain": [
       "<matplotlib.figure.Figure at 0x10fffa890>"
      ]
     },
     "metadata": {},
     "output_type": "display_data"
    }
   ],
   "source": [
    "plt.figure()\n",
    "feat1, feat2 = [\"count_hour0_norm\", \"count_hour3_norm\"]\n",
    "plt.scatter(dataset[feat1], dataset[feat2])\n",
    "plt.xlabel(feat1); plt.ylabel(feat2)\n",
    "plt.show()"
   ]
  },
  {
   "cell_type": "markdown",
   "metadata": {},
   "source": [
    "# Data Clustering Pipeline"
   ]
  },
  {
   "cell_type": "code",
   "execution_count": 8,
   "metadata": {
    "collapsed": false
   },
   "outputs": [
    {
     "data": {
      "text/html": [
       "<div>\n",
       "<table border=\"1\" class=\"dataframe\">\n",
       "  <thead>\n",
       "    <tr style=\"text-align: right;\">\n",
       "      <th></th>\n",
       "      <th>query_count</th>\n",
       "      <th>domain_count</th>\n",
       "      <th>count_hour0_norm</th>\n",
       "      <th>count_hour1_norm</th>\n",
       "      <th>count_hour2_norm</th>\n",
       "      <th>count_hour3_norm</th>\n",
       "      <th>count_hour4_norm</th>\n",
       "      <th>count_hour5_norm</th>\n",
       "    </tr>\n",
       "    <tr>\n",
       "      <th>user_ip</th>\n",
       "      <th></th>\n",
       "      <th></th>\n",
       "      <th></th>\n",
       "      <th></th>\n",
       "      <th></th>\n",
       "      <th></th>\n",
       "      <th></th>\n",
       "      <th></th>\n",
       "    </tr>\n",
       "  </thead>\n",
       "  <tbody>\n",
       "    <tr>\n",
       "      <th>0.0.102.79</th>\n",
       "      <td>9303.0</td>\n",
       "      <td>2456</td>\n",
       "      <td>0.010857</td>\n",
       "      <td>0.090616</td>\n",
       "      <td>0.192196</td>\n",
       "      <td>0.197033</td>\n",
       "      <td>0.271525</td>\n",
       "      <td>0.237773</td>\n",
       "    </tr>\n",
       "    <tr>\n",
       "      <th>0.0.129.25</th>\n",
       "      <td>2930.0</td>\n",
       "      <td>1188</td>\n",
       "      <td>0.075085</td>\n",
       "      <td>0.295563</td>\n",
       "      <td>0.089420</td>\n",
       "      <td>0.121160</td>\n",
       "      <td>0.166553</td>\n",
       "      <td>0.252218</td>\n",
       "    </tr>\n",
       "    <tr>\n",
       "      <th>0.0.144.177</th>\n",
       "      <td>662.0</td>\n",
       "      <td>36</td>\n",
       "      <td>0.110272</td>\n",
       "      <td>0.219033</td>\n",
       "      <td>0.209970</td>\n",
       "      <td>0.163142</td>\n",
       "      <td>0.114804</td>\n",
       "      <td>0.182779</td>\n",
       "    </tr>\n",
       "    <tr>\n",
       "      <th>0.0.167.184</th>\n",
       "      <td>554.0</td>\n",
       "      <td>85</td>\n",
       "      <td>0.018051</td>\n",
       "      <td>0.027076</td>\n",
       "      <td>0.205776</td>\n",
       "      <td>0.054152</td>\n",
       "      <td>0.281588</td>\n",
       "      <td>0.413357</td>\n",
       "    </tr>\n",
       "    <tr>\n",
       "      <th>0.0.177.228</th>\n",
       "      <td>4737.0</td>\n",
       "      <td>661</td>\n",
       "      <td>0.107241</td>\n",
       "      <td>0.259658</td>\n",
       "      <td>0.168461</td>\n",
       "      <td>0.176694</td>\n",
       "      <td>0.160861</td>\n",
       "      <td>0.127085</td>\n",
       "    </tr>\n",
       "  </tbody>\n",
       "</table>\n",
       "</div>"
      ],
      "text/plain": [
       "             query_count  domain_count  count_hour0_norm  count_hour1_norm  \\\n",
       "user_ip                                                                      \n",
       "0.0.102.79        9303.0          2456          0.010857          0.090616   \n",
       "0.0.129.25        2930.0          1188          0.075085          0.295563   \n",
       "0.0.144.177        662.0            36          0.110272          0.219033   \n",
       "0.0.167.184        554.0            85          0.018051          0.027076   \n",
       "0.0.177.228       4737.0           661          0.107241          0.259658   \n",
       "\n",
       "             count_hour2_norm  count_hour3_norm  count_hour4_norm  \\\n",
       "user_ip                                                             \n",
       "0.0.102.79           0.192196          0.197033          0.271525   \n",
       "0.0.129.25           0.089420          0.121160          0.166553   \n",
       "0.0.144.177          0.209970          0.163142          0.114804   \n",
       "0.0.167.184          0.205776          0.054152          0.281588   \n",
       "0.0.177.228          0.168461          0.176694          0.160861   \n",
       "\n",
       "             count_hour5_norm  \n",
       "user_ip                        \n",
       "0.0.102.79           0.237773  \n",
       "0.0.129.25           0.252218  \n",
       "0.0.144.177          0.182779  \n",
       "0.0.167.184          0.413357  \n",
       "0.0.177.228          0.127085  "
      ]
     },
     "execution_count": 8,
     "metadata": {},
     "output_type": "execute_result"
    }
   ],
   "source": [
    "selected_features = [\"query_count\", \"domain_count\"] + [\"count_hour{}_norm\".format(hour) for hour in xrange(6)]\n",
    "X = dataset[:200000].set_index(\"user_ip\")[selected_features]\n",
    "X.head()"
   ]
  },
  {
   "cell_type": "code",
   "execution_count": 9,
   "metadata": {
    "collapsed": true
   },
   "outputs": [],
   "source": [
    "from sklearn.preprocessing import StandardScaler\n",
    "from sklearn2pmml import sklearn2pmml, PMMLPipeline\n",
    "from sklearn.cluster import KMeans\n",
    "from sklearn.decomposition import PCA\n",
    "\n",
    "scaler = StandardScaler()\n",
    "clusterer = KMeans(n_clusters=2)\n",
    "pca = PCA(n_components=8)\n",
    "\n",
    "clustering_pipe = PMMLPipeline([ # We can use sklearn.pipeline but we use the PMML extension that we can later export\n",
    "    ('scaler', scaler),\n",
    "    ('clusterer', clusterer),\n",
    "])\n"
   ]
  },
  {
   "cell_type": "code",
   "execution_count": 10,
   "metadata": {
    "collapsed": true
   },
   "outputs": [],
   "source": [
    "categories = clustering_pipe.fit_predict(X)"
   ]
  },
  {
   "cell_type": "code",
   "execution_count": 11,
   "metadata": {
    "collapsed": false
   },
   "outputs": [],
   "source": [
    "result = X.reset_index()[[\"user_ip\"]].set_index(\"user_ip\")\n",
    "result[\"prediction\"] = categories\n",
    "result.to_csv(\"clusters_python.csv\")"
   ]
  },
  {
   "cell_type": "markdown",
   "metadata": {},
   "source": [
    "## Visualization\n",
    "\n",
    "Let's look at how the clustering works on several intersections of the data"
   ]
  },
  {
   "cell_type": "code",
   "execution_count": 12,
   "metadata": {
    "collapsed": false
   },
   "outputs": [],
   "source": [
    "N = 30000\n",
    "X0 = X[categories==0][:N]\n",
    "X1 = X[categories==1][:N]\n"
   ]
  },
  {
   "cell_type": "code",
   "execution_count": 13,
   "metadata": {
    "collapsed": false
   },
   "outputs": [
    {
     "data": {
      "image/png": "[encoded data removed]",
      "text/plain": [
       "<matplotlib.figure.Figure at 0x11b860c90>"
      ]
     },
     "metadata": {},
     "output_type": "display_data"
    }
   ],
   "source": [
    "plt.figure()\n",
    "feat1, feat2 = [\"count_hour5_norm\", \"count_hour2_norm\"]\n",
    "plt.scatter(X0[feat1], X0[feat2], c='r')\n",
    "plt.scatter(X1[feat1], X1[feat2], c='g')\n",
    "plt.xlabel(feat1); plt.ylabel(feat2)\n",
    "plt.show()"
   ]
  },
  {
   "cell_type": "code",
   "execution_count": 14,
   "metadata": {
    "collapsed": false,
    "scrolled": true
   },
   "outputs": [
    {
     "data": {
      "image/png": "[encoded data removed]",
      "text/plain": [
       "<matplotlib.figure.Figure at 0x11ee11f90>"
      ]
     },
     "metadata": {},
     "output_type": "display_data"
    }
   ],
   "source": [
    "plt.figure()\n",
    "feat1, feat2 = [\"count_hour5_norm\", \"query_count\"]\n",
    "plt.scatter(X0[feat1], X0[feat2], c='r')\n",
    "plt.scatter(X1[feat1], X1[feat2], c='g')\n",
    "plt.xlabel(feat1); plt.ylabel(feat2)\n",
    "plt.show()"
   ]
  },
  {
   "cell_type": "markdown",
   "metadata": {},
   "source": [
    "We can also try and reduce the dimensionality to get a sense of how the clustering works on a combination of all the features. Note that the dimensionality reduction (PCA in this case) is lossy."
   ]
  },
  {
   "cell_type": "code",
   "execution_count": 15,
   "metadata": {
    "collapsed": false
   },
   "outputs": [],
   "source": [
    "from sklearn.pipeline import Pipeline\n",
    "scaler_vis = StandardScaler()\n",
    "pca_vis = PCA(n_components=2)\n",
    "\n",
    "pca_pipe = Pipeline([\n",
    "    ('scaler', scaler_vis),\n",
    "    ('pca', pca_vis),\n",
    "])\n",
    "X_pca = pca_pipe.fit_transform(X)\n"
   ]
  },
  {
   "cell_type": "code",
   "execution_count": 16,
   "metadata": {
    "collapsed": true
   },
   "outputs": [],
   "source": [
    "N = 50000\n",
    "X0_pca = X_pca[categories==0][:N]\n",
    "X1_pca = X_pca[categories==1][:N]\n"
   ]
  },
  {
   "cell_type": "code",
   "execution_count": 17,
   "metadata": {
    "collapsed": false
   },
   "outputs": [
    {
     "data": {
      "image/png": "[encoded data removed]",
      "text/plain": [
       "<matplotlib.figure.Figure at 0x11ee25ed0>"
      ]
     },
     "metadata": {},
     "output_type": "display_data"
    }
   ],
   "source": [
    "plt.figure()\n",
    "plt.scatter(X0_pca[:,0], X0_pca[:,1], c='r')\n",
    "plt.scatter(X1_pca[:,0], X1_pca[:,1], c='g')\n",
    "plt.xlabel(\"PCA1\")\n",
    "plt.ylabel(\"PCA2\")\n",
    "plt.show()"
   ]
  },
  {
   "cell_type": "markdown",
   "metadata": {},
   "source": [
    "## Validation"
   ]
  },
  {
   "cell_type": "markdown",
   "metadata": {},
   "source": [
    "For validation purposes we've generated a list of IPs that we believe belong to organizations, using an independent heuristic logic. The logic relies on the specific domains accessed by the IPs, which we are not allowed to publish.\n",
    "A nice measure for the clustering success is to have the organizations in the same class. Ideally, we would like to have all of them in the same class."
   ]
  },
  {
   "cell_type": "code",
   "execution_count": 18,
   "metadata": {
    "collapsed": false
   },
   "outputs": [
    {
     "name": "stdout",
     "output_type": "stream",
     "text": [
      "84\n"
     ]
    }
   ],
   "source": [
    "organization_ips = pd.read_csv(\"organizations.csv\")\n",
    "organization_features = organization_ips.merge(dataset, on=\"user_ip\").drop_duplicates()\n",
    "print len(organization_features)"
   ]
  },
  {
   "cell_type": "code",
   "execution_count": 19,
   "metadata": {
    "collapsed": true
   },
   "outputs": [],
   "source": [
    "organization_ip_set = set(organization_ips.user_ip)"
   ]
  },
  {
   "cell_type": "code",
   "execution_count": 20,
   "metadata": {
    "collapsed": false
   },
   "outputs": [
    {
     "name": "stdout",
     "output_type": "stream",
     "text": [
      "84\n"
     ]
    }
   ],
   "source": [
    "X_orgs = X[X.index.isin(organization_ip_set)]\n",
    "X_orgs_pca = X_pca[X.index.isin(organization_ip_set)]\n",
    "print len(X_orgs)"
   ]
  },
  {
   "cell_type": "code",
   "execution_count": 21,
   "metadata": {
    "collapsed": false
   },
   "outputs": [
    {
     "data": {
      "image/png": "[encoded data removed]",
      "text/plain": [
       "<matplotlib.figure.Figure at 0x11b860550>"
      ]
     },
     "metadata": {},
     "output_type": "display_data"
    }
   ],
   "source": [
    "plt.figure()\n",
    "plt.scatter(X0_pca[:,0], X0_pca[:,1], c='r', label=\"Cluster 0\")\n",
    "plt.scatter(X1_pca[:,0], X1_pca[:,1], c='g', label=\"Cluster 1\")\n",
    "plt.scatter(X_orgs_pca[:,0], X_orgs_pca[:,1], c='y', marker='^', label=\"Organizations\")\n",
    "plt.legend(loc=\"best\")\n",
    "plt.xlabel(\"PCA1\")\n",
    "plt.ylabel(\"PCA2\")\n",
    "plt.show()"
   ]
  },
  {
   "cell_type": "code",
   "execution_count": 22,
   "metadata": {
    "collapsed": false
   },
   "outputs": [
    {
     "data": {
      "image/png": "[encoded data removed]",
      "text/plain": [
       "<matplotlib.figure.Figure at 0x11f0ff950>"
      ]
     },
     "metadata": {},
     "output_type": "display_data"
    },
    {
     "data": {
      "text/plain": [
       "array([ 0.79761905,  0.20238095])"
      ]
     },
     "execution_count": 22,
     "metadata": {},
     "output_type": "execute_result"
    }
   ],
   "source": [
    "org_categories = clustering_pipe.predict(X_orgs)\n",
    "plt.figure()\n",
    "n, bins, _ = plt.hist(org_categories, bins=[-0.5,0.5,1.5])\n",
    "plt.show()\n",
    "n/sum(n)"
   ]
  },
  {
   "cell_type": "markdown",
   "metadata": {},
   "source": [
    "So, 80% of the organizations fall under the same cluster. Might not sound impressive, but given the density of the data it is actually not too bad. That is, so long as the cluster is not 3 times large than the other cluster. Let's see if that is the case."
   ]
  },
  {
   "cell_type": "code",
   "execution_count": 23,
   "metadata": {
    "collapsed": false
   },
   "outputs": [
    {
     "name": "stdout",
     "output_type": "stream",
     "text": [
      "110416 61953\n"
     ]
    },
    {
     "data": {
      "text/plain": [
       "array([ 0.0006068,  0.0002744])"
      ]
     },
     "execution_count": 23,
     "metadata": {},
     "output_type": "execute_result"
    }
   ],
   "source": [
    "X0 = X[categories==0]\n",
    "X1 = X[categories==1]\n",
    "print len(X0), len(X1)\n",
    "n/np.array([len(X0), len(X1)])"
   ]
  },
  {
   "cell_type": "markdown",
   "metadata": {
    "collapsed": true
   },
   "source": [
    "So the organization cluster is actually twice the size of cluster 0. This weakens the results a bit but it's still much better than a 50-50 guess."
   ]
  },
  {
   "cell_type": "markdown",
   "metadata": {},
   "source": [
    "# Exporting the Clustering Pipeline\n",
    "\n",
    "Next, we want to export the pipeline for later use in a different system (Spark over Scala in this case). We use PMML for that."
   ]
  },
  {
   "cell_type": "code",
   "execution_count": 24,
   "metadata": {
    "collapsed": false
   },
   "outputs": [],
   "source": [
    "sklearn2pmml(clustering_pipe, \"clustering_pipeline.pmml\")"
   ]
  }
 ],
 "metadata": {
  "kernelspec": {
   "display_name": "Python 2",
   "language": "python",
   "name": "python2"
  },
  "language_info": {
   "codemirror_mode": {
    "name": "ipython",
    "version": 2
   },
   "file_extension": ".py",
   "mimetype": "text/x-python",
   "name": "python",
   "nbconvert_exporter": "python",
   "pygments_lexer": "ipython2",
   "version": "2.7.10"
  }
 },
 "nbformat": 4,
 "nbformat_minor": 2
}
